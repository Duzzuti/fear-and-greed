{
 "cells": [
  {
   "cell_type": "code",
   "execution_count": 2,
   "metadata": {},
   "outputs": [],
   "source": [
    "data_dir = \"../test_data/\"\n",
    "sp500_dir = data_dir + \"sp500/\""
   ]
  },
  {
   "cell_type": "code",
   "execution_count": null,
   "metadata": {},
   "outputs": [],
   "source": [
    "# find the stock which has data on date\n",
    "date = \"2000-11-23\"\n",
    "import os\n",
    "import pandas as pd\n",
    "# iterate over all csv files in test_data/sp500 folder\n",
    "for file in os.listdir(sp500_dir):\n",
    "    if file.endswith(\".csv\"):\n",
    "        # read csv file\n",
    "        df = pd.read_csv(f\"{sp500_dir}{file}\", header=[0,1], index_col=0)\n",
    "        if pd.to_datetime(date).date().strftime(\"%Y-%m-%d\") in df.index:\n",
    "            print(file)\n",
    "            break"
   ]
  },
  {
   "cell_type": "code",
   "execution_count": null,
   "metadata": {},
   "outputs": [],
   "source": [
    "# remove all rows from file where data_count.csv has a value of less than 10\n",
    "file = \"1995-06-01_2004-03-24_TUP.csv\"\n",
    "import pandas as pd\n",
    "df = pd.read_csv(data_dir+file, header=[0,1], index_col=0)\n",
    "df2 = pd.read_csv(\"date_count.csv\", index_col=0, header=[0])\n",
    "df2.index = pd.to_datetime(df2.index)\n",
    "df2 = df2[df2[\"Count\"] < 10]\n",
    "df2 = df2.index.strftime(\"%Y-%m-%d\").tolist()\n",
    "print(df2)\n",
    "df = df.drop(df2, errors=\"ignore\")\n",
    "df.to_csv(data_dir+file)\n"
   ]
  },
  {
   "cell_type": "code",
   "execution_count": null,
   "metadata": {},
   "outputs": [],
   "source": [
    "# sorting replacement_list.csv\n",
    "path = \"repoData/replacement_list.csv\"\n",
    "new_path = \"repoData/replacement_list_sorted.csv\"\n",
    "def comp(row):\n",
    "    pre = \"a\" if len(row.split(\",\")[1].strip()) > 0 else \"b\"\n",
    "    return pre + \"zzzzz\" + row.split(\",\")[0].lower()\n",
    "\n",
    "row_set = set()\n",
    "with open(path, \"r\") as f:\n",
    "    for line in f:\n",
    "        row_set.add(line)\n",
    "\n",
    "with open(new_path, \"w\") as f:\n",
    "    for row in sorted(row_set, key=comp):\n",
    "        f.write(row)"
   ]
  }
 ],
 "metadata": {
  "kernelspec": {
   "display_name": "Python 3",
   "language": "python",
   "name": "python3"
  },
  "language_info": {
   "codemirror_mode": {
    "name": "ipython",
    "version": 3
   },
   "file_extension": ".py",
   "mimetype": "text/x-python",
   "name": "python",
   "nbconvert_exporter": "python",
   "pygments_lexer": "ipython3",
   "version": "3.11.4"
  }
 },
 "nbformat": 4,
 "nbformat_minor": 2
}
