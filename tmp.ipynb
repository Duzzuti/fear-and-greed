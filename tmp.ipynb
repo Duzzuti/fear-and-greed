{
 "cells": [
  {
   "cell_type": "code",
   "execution_count": null,
   "metadata": {},
   "outputs": [],
   "source": [
    "import os\n",
    "import pandas as pd\n",
    "\n",
    "# iterate over all csv files in test_data/sp500 folder\n",
    "for file in os.listdir(\"test_data/sp500\"):\n",
    "    if file.endswith(\".csv\"):\n",
    "        # read csv file\n",
    "        df = pd.read_csv(f\"test_data/sp500/{file}\", header=[0,1], index_col=0)\n",
    "        # get ticker symbol from the header\n",
    "        ticker = df.columns.levels[1][0]\n",
    "        if df.empty:\n",
    "            # add ticker to replacement list\n",
    "            with open(\"replacement_list.csv\", \"a\") as f:\n",
    "                f.write(f\"{ticker},\\n\")\n",
    "            # remove file\n",
    "            os.remove(f\"test_data/sp500/{file}\")"
   ]
  }
 ],
 "metadata": {
  "kernelspec": {
   "display_name": "Python 3",
   "language": "python",
   "name": "python3"
  },
  "language_info": {
   "codemirror_mode": {
    "name": "ipython",
    "version": 3
   },
   "file_extension": ".py",
   "mimetype": "text/x-python",
   "name": "python",
   "nbconvert_exporter": "python",
   "pygments_lexer": "ipython3",
   "version": "3.11.4"
  }
 },
 "nbformat": 4,
 "nbformat_minor": 2
}
