{
 "cells": [
  {
   "cell_type": "code",
   "execution_count": 4,
   "metadata": {},
   "outputs": [
    {
     "ename": "KeyError",
     "evalue": "'Credit Cash'",
     "output_type": "error",
     "traceback": [
      "\u001b[1;31m---------------------------------------------------------------------------\u001b[0m",
      "\u001b[1;31mKeyError\u001b[0m                                  Traceback (most recent call last)",
      "File \u001b[1;32m~\\AppData\\Roaming\\Python\\Python311\\site-packages\\pandas\\core\\indexes\\base.py:3805\u001b[0m, in \u001b[0;36mIndex.get_loc\u001b[1;34m(self, key)\u001b[0m\n\u001b[0;32m   3804\u001b[0m \u001b[38;5;28;01mtry\u001b[39;00m:\n\u001b[1;32m-> 3805\u001b[0m     \u001b[38;5;28;01mreturn\u001b[39;00m \u001b[38;5;28;43mself\u001b[39;49m\u001b[38;5;241;43m.\u001b[39;49m\u001b[43m_engine\u001b[49m\u001b[38;5;241;43m.\u001b[39;49m\u001b[43mget_loc\u001b[49m\u001b[43m(\u001b[49m\u001b[43mcasted_key\u001b[49m\u001b[43m)\u001b[49m\n\u001b[0;32m   3806\u001b[0m \u001b[38;5;28;01mexcept\u001b[39;00m \u001b[38;5;167;01mKeyError\u001b[39;00m \u001b[38;5;28;01mas\u001b[39;00m err:\n",
      "File \u001b[1;32mindex.pyx:167\u001b[0m, in \u001b[0;36mpandas._libs.index.IndexEngine.get_loc\u001b[1;34m()\u001b[0m\n",
      "File \u001b[1;32mindex.pyx:196\u001b[0m, in \u001b[0;36mpandas._libs.index.IndexEngine.get_loc\u001b[1;34m()\u001b[0m\n",
      "File \u001b[1;32mpandas\\\\_libs\\\\hashtable_class_helper.pxi:7081\u001b[0m, in \u001b[0;36mpandas._libs.hashtable.PyObjectHashTable.get_item\u001b[1;34m()\u001b[0m\n",
      "File \u001b[1;32mpandas\\\\_libs\\\\hashtable_class_helper.pxi:7089\u001b[0m, in \u001b[0;36mpandas._libs.hashtable.PyObjectHashTable.get_item\u001b[1;34m()\u001b[0m\n",
      "\u001b[1;31mKeyError\u001b[0m: 'Credit Cash'",
      "\nThe above exception was the direct cause of the following exception:\n",
      "\u001b[1;31mKeyError\u001b[0m                                  Traceback (most recent call last)",
      "Cell \u001b[1;32mIn[4], line 11\u001b[0m\n\u001b[0;32m      9\u001b[0m df \u001b[38;5;241m=\u001b[39m df\u001b[38;5;241m.\u001b[39mrename(columns\u001b[38;5;241m=\u001b[39m{\u001b[38;5;124m\"\u001b[39m\u001b[38;5;124mFree Credit Balances in Customers\u001b[39m\u001b[38;5;124m'\u001b[39m\u001b[38;5;124m Cash Accounts\u001b[39m\u001b[38;5;124m\"\u001b[39m:\u001b[38;5;124m\"\u001b[39m\u001b[38;5;124mCredit Cash\u001b[39m\u001b[38;5;124m\"\u001b[39m})\n\u001b[0;32m     10\u001b[0m df \u001b[38;5;241m=\u001b[39m df\u001b[38;5;241m.\u001b[39mrename(columns\u001b[38;5;241m=\u001b[39m{\u001b[38;5;124m\"\u001b[39m\u001b[38;5;124mFree Credit Balances in Customers\u001b[39m\u001b[38;5;124m'\u001b[39m\u001b[38;5;124m Securities Margin Accounts\u001b[39m\u001b[38;5;124m\"\u001b[39m:\u001b[38;5;124m\"\u001b[39m\u001b[38;5;124mCredit Securities\u001b[39m\u001b[38;5;124m\"\u001b[39m})\n\u001b[1;32m---> 11\u001b[0m df[\u001b[38;5;124m\"\u001b[39m\u001b[38;5;124mCredit\u001b[39m\u001b[38;5;124m\"\u001b[39m] \u001b[38;5;241m=\u001b[39m \u001b[43mdf\u001b[49m\u001b[43m[\u001b[49m\u001b[38;5;124;43m\"\u001b[39;49m\u001b[38;5;124;43mCredit Cash\u001b[39;49m\u001b[38;5;124;43m\"\u001b[39;49m\u001b[43m]\u001b[49m \u001b[38;5;241m+\u001b[39m df[\u001b[38;5;124m\"\u001b[39m\u001b[38;5;124mCredit Securities\u001b[39m\u001b[38;5;124m\"\u001b[39m]\n\u001b[0;32m     12\u001b[0m df\u001b[38;5;241m.\u001b[39mdrop([\u001b[38;5;124m\"\u001b[39m\u001b[38;5;124mCredit Cash\u001b[39m\u001b[38;5;124m\"\u001b[39m, \u001b[38;5;124m\"\u001b[39m\u001b[38;5;124mCredit Securities\u001b[39m\u001b[38;5;124m\"\u001b[39m], axis\u001b[38;5;241m=\u001b[39m\u001b[38;5;241m1\u001b[39m, inplace\u001b[38;5;241m=\u001b[39m\u001b[38;5;28;01mTrue\u001b[39;00m)\n\u001b[0;32m     13\u001b[0m \u001b[38;5;66;03m# calculate Leverage Ratio\u001b[39;00m\n",
      "File \u001b[1;32m~\\AppData\\Roaming\\Python\\Python311\\site-packages\\pandas\\core\\frame.py:4102\u001b[0m, in \u001b[0;36mDataFrame.__getitem__\u001b[1;34m(self, key)\u001b[0m\n\u001b[0;32m   4100\u001b[0m \u001b[38;5;28;01mif\u001b[39;00m \u001b[38;5;28mself\u001b[39m\u001b[38;5;241m.\u001b[39mcolumns\u001b[38;5;241m.\u001b[39mnlevels \u001b[38;5;241m>\u001b[39m \u001b[38;5;241m1\u001b[39m:\n\u001b[0;32m   4101\u001b[0m     \u001b[38;5;28;01mreturn\u001b[39;00m \u001b[38;5;28mself\u001b[39m\u001b[38;5;241m.\u001b[39m_getitem_multilevel(key)\n\u001b[1;32m-> 4102\u001b[0m indexer \u001b[38;5;241m=\u001b[39m \u001b[38;5;28;43mself\u001b[39;49m\u001b[38;5;241;43m.\u001b[39;49m\u001b[43mcolumns\u001b[49m\u001b[38;5;241;43m.\u001b[39;49m\u001b[43mget_loc\u001b[49m\u001b[43m(\u001b[49m\u001b[43mkey\u001b[49m\u001b[43m)\u001b[49m\n\u001b[0;32m   4103\u001b[0m \u001b[38;5;28;01mif\u001b[39;00m is_integer(indexer):\n\u001b[0;32m   4104\u001b[0m     indexer \u001b[38;5;241m=\u001b[39m [indexer]\n",
      "File \u001b[1;32m~\\AppData\\Roaming\\Python\\Python311\\site-packages\\pandas\\core\\indexes\\base.py:3812\u001b[0m, in \u001b[0;36mIndex.get_loc\u001b[1;34m(self, key)\u001b[0m\n\u001b[0;32m   3807\u001b[0m     \u001b[38;5;28;01mif\u001b[39;00m \u001b[38;5;28misinstance\u001b[39m(casted_key, \u001b[38;5;28mslice\u001b[39m) \u001b[38;5;129;01mor\u001b[39;00m (\n\u001b[0;32m   3808\u001b[0m         \u001b[38;5;28misinstance\u001b[39m(casted_key, abc\u001b[38;5;241m.\u001b[39mIterable)\n\u001b[0;32m   3809\u001b[0m         \u001b[38;5;129;01mand\u001b[39;00m \u001b[38;5;28many\u001b[39m(\u001b[38;5;28misinstance\u001b[39m(x, \u001b[38;5;28mslice\u001b[39m) \u001b[38;5;28;01mfor\u001b[39;00m x \u001b[38;5;129;01min\u001b[39;00m casted_key)\n\u001b[0;32m   3810\u001b[0m     ):\n\u001b[0;32m   3811\u001b[0m         \u001b[38;5;28;01mraise\u001b[39;00m InvalidIndexError(key)\n\u001b[1;32m-> 3812\u001b[0m     \u001b[38;5;28;01mraise\u001b[39;00m \u001b[38;5;167;01mKeyError\u001b[39;00m(key) \u001b[38;5;28;01mfrom\u001b[39;00m \u001b[38;5;21;01merr\u001b[39;00m\n\u001b[0;32m   3813\u001b[0m \u001b[38;5;28;01mexcept\u001b[39;00m \u001b[38;5;167;01mTypeError\u001b[39;00m:\n\u001b[0;32m   3814\u001b[0m     \u001b[38;5;66;03m# If we have a listlike key, _check_indexing_error will raise\u001b[39;00m\n\u001b[0;32m   3815\u001b[0m     \u001b[38;5;66;03m#  InvalidIndexError. Otherwise we fall through and re-raise\u001b[39;00m\n\u001b[0;32m   3816\u001b[0m     \u001b[38;5;66;03m#  the TypeError.\u001b[39;00m\n\u001b[0;32m   3817\u001b[0m     \u001b[38;5;28mself\u001b[39m\u001b[38;5;241m.\u001b[39m_check_indexing_error(key)\n",
      "\u001b[1;31mKeyError\u001b[0m: 'Credit Cash'"
     ]
    }
   ],
   "source": [
    "import pandas as pd\n",
    "import numpy as np\n",
    "df = pd.read_csv(\"repoData/margin_stats.csv\", index_col=0)\n",
    "# index to datetime\n",
    "df.index = pd.to_datetime(df.index)\n",
    "#rename column\n",
    "df.replace(np.nan, 0, inplace=True)\n",
    "df = df.rename(columns={\"Debit Balances in Customers' Securities Margin Accounts\":\"Debit\"})\n",
    "df = df.rename(columns={\"Free Credit Balances in Customers' Cash Accounts\":\"Credit Cash\"})\n",
    "df = df.rename(columns={\"Free Credit Balances in Customers' Securities Margin Accounts\":\"Credit Securities\"})\n",
    "df[\"Credit\"] = df[\"Credit Cash\"] + df[\"Credit Securities\"]\n",
    "df.drop([\"Credit Cash\", \"Credit Securities\"], axis=1, inplace=True)\n",
    "# calculate Leverage Ratio\n",
    "df[\"Leverage Ratio\"] = df[\"Debit\"] / df[\"Credit\"]\n",
    "df[\"Leverage Ratio\"] -= 1.5\n",
    "df[\"Leverage Ratio\"] = (np.tanh(df[\"Leverage Ratio\"]*2) + 1) *50\n",
    "# plot the leverage ratio\n",
    "import matplotlib.pyplot as plt\n",
    "plt.figure(figsize=(10, 5))\n",
    "plt.plot(df.index, df[\"Leverage Ratio\"])\n",
    "plt.title(\"Leverage Ratio\")\n",
    "plt.xlabel(\"Date\")\n",
    "plt.ylabel(\"Leverage Ratio\")\n",
    "plt.show()\n",
    "# save the leverage ratio\n",
    "#df.to_csv(\"repoData/margin_stats.csv\")"
   ]
  },
  {
   "cell_type": "code",
   "execution_count": null,
   "metadata": {},
   "outputs": [],
   "source": [
    "import pandas as pd\n",
    "df = pd.read_csv(\"repoData/put_call_ratios.csv\", parse_dates=[\"Date\"])\n",
    "df[\"Date\"] = df[\"Date\"].dt.date\n",
    "df.to_csv(\"repoData/put_call_ratios.csv\", index=False)"
   ]
  },
  {
   "cell_type": "code",
   "execution_count": null,
   "metadata": {},
   "outputs": [],
   "source": [
    "import pandas as pd\n",
    "import numpy as np\n",
    "def fetch_investor_sentiment_data():\n",
    "    # Fetch sentiment data from AAII\n",
    "    # 1. Check for file in data directory\n",
    "    # TODO validate the dates of the data\n",
    "    # TODO scrape the recent data from the website (https://www.aaii.com/sentimentsurvey/sent_results)\n",
    "    date_parser = lambda x: pd.to_datetime(x, format=\"%m-%d-%Y\", errors='coerce')\n",
    "\n",
    "    aaii_sentiment = pd.read_excel(\"data/downloads/\" + \"sentiment.xls\", index_col=0, parse_dates=True, date_parser=date_parser)\n",
    "    # only keep the 6th column\n",
    "    aaii_sentiment = aaii_sentiment.iloc[:, 5]\n",
    "    # remove all rows after the first NaN in index column\n",
    "    aaii_sentiment = aaii_sentiment.iloc[4:pd.Series(aaii_sentiment.index.isna()[4:]).idxmax() + 4]\n",
    "    aaii_sentiment.ffill(inplace=True)\n",
    "    aaii_sentiment.replace(np.nan, 0, inplace=True)\n",
    "    # normalize with tanh\n",
    "    aaii_sentiment = ((np.tanh(aaii_sentiment * 3) + 1) / 2) * 100\n",
    "    # save the data\n",
    "    aaii_sentiment.to_csv(\"aaii_sentiment.csv\")\n",
    "\n",
    "fetch_investor_sentiment_data()"
   ]
  },
  {
   "cell_type": "code",
   "execution_count": null,
   "metadata": {},
   "outputs": [],
   "source": [
    "import pandas as pd\n",
    "def diff():\n",
    "    df = pd.read_csv(\"backupData/sp500components.csv\", index_col=0)\n",
    "    df_last_components = df.iloc[-1, 0]\n",
    "    df_last_components = df_last_components.split(\",\")\n",
    "    df2 = pd.read_csv(\"data/sp500_companies.csv\")\n",
    "    df2_last_components = df2.iloc[:, 0].to_list()\n",
    "    # calculate the difference between the two lists\n",
    "    if sorted(list(df_last_components)) != sorted(list(set(df_last_components))) or sorted(list(df2_last_components)) != sorted(list(set(df2_last_components))):\n",
    "        raise ValueError(\"The input lists must be sets\")\n",
    "    return (list(set(df_last_components) - set(df2_last_components)), list(set(df2_last_components) - set(df_last_components)))\n",
    "print(diff())\n",
    "def add_change():\n",
    "    change = input(\"Enter a change in the format YYYY-MM-DD;Add1,Add2;Rem1,Rem2:\")\n",
    "    if change.count(\";\") != 2:\n",
    "        print(\"The input must contain two semicolons\")\n",
    "        return\n",
    "    change = change.split(\";\")\n",
    "    change_date = change[0]\n",
    "    add = change[1].split(\",\")\n",
    "    remove = change[2].split(\",\")\n",
    "    df = pd.read_csv(\"backupData/sp500components.csv\", index_col=0)\n",
    "    # last date in the dataframe\n",
    "    last_date = pd.to_datetime(df.index[-1]).date()\n",
    "    change_date = pd.to_datetime(change_date).date()\n",
    "    # if last date is less than the change date\n",
    "    if last_date < change_date:\n",
    "        # get the last row in the dataframe\n",
    "        last_row = df.iloc[-1, 0]\n",
    "        last_row = last_row.split(\",\")\n",
    "        # add the new components\n",
    "        if add != [\"\"]:\n",
    "            last_row.extend(add)\n",
    "        # remove the components\n",
    "        for i in remove:\n",
    "            if not i:\n",
    "                continue\n",
    "            if i not in last_row:\n",
    "                raise ValueError(\"The component to be removed must be in the dataframe\")\n",
    "            last_row.remove(i)\n",
    "        # remove duplicates\n",
    "        last_row = sorted(list(set(last_row)))\n",
    "        # convert the list to a string\n",
    "        last_row = \",\".join(last_row)\n",
    "        # add the new row to the dataframe\n",
    "        df.loc[change_date] = last_row\n",
    "        # save the dataframe\n",
    "        df.to_csv(\"backupData/sp500components.csv\")\n",
    "\n",
    "    else:\n",
    "        raise ValueError(\"The date must be later than the last date in the dataframe\")\n",
    "add_change()"
   ]
  },
  {
   "cell_type": "code",
   "execution_count": null,
   "metadata": {},
   "outputs": [],
   "source": [
    "import pandas as pd\n",
    "\n",
    "df = pd.read_csv(\"backupData/sp500components.csv\", index_col=0)\n",
    "df.index = pd.to_datetime(df.index)\n",
    "#df = df.resample(\"D\").ffill()\n",
    "#df = df.iloc[:,0].str.split(\",\", expand=True)\n",
    "df"
   ]
  },
  {
   "cell_type": "code",
   "execution_count": null,
   "metadata": {},
   "outputs": [],
   "source": [
    "# import os\n",
    "# import utils\n",
    "# data_dir = \"test_data/\"\n",
    "# if not os.path.exists(data_dir):\n",
    "#     os.mkdir(data_dir)"
   ]
  },
  {
   "cell_type": "code",
   "execution_count": null,
   "metadata": {},
   "outputs": [],
   "source": [
    "utils.fetch_sp500companies_data(data_dir, sp500_dir, \"2019-01-01\", \"2020-01-02\")"
   ]
  },
  {
   "cell_type": "markdown",
   "metadata": {},
   "source": [
    "# Test Metrics"
   ]
  },
  {
   "cell_type": "code",
   "execution_count": 1,
   "metadata": {
    "notebookRunGroups": {
     "groupValue": "1"
    }
   },
   "outputs": [],
   "source": [
    "import os\n",
    "from metrics import *\n",
    "import matplotlib\n",
    "matplotlib.use('tkagg')\n",
    "import plotting\n",
    "data_dir = \"test_data/\"\n",
    "if not os.path.exists(data_dir):\n",
    "    os.mkdir(data_dir)\n",
    "start_date = '2000-01-01'\n",
    "end_date = None#'2024-01-01'"
   ]
  },
  {
   "cell_type": "code",
   "execution_count": 2,
   "metadata": {},
   "outputs": [],
   "source": [
    "def showMetricsCalculation(metric : Metric, y_axis = [\"left\", \"left\", \"right\"]):\n",
    "    if False:\n",
    "        sp500 = SP500Momentum()\n",
    "        sp500.get()\n",
    "    # plot all stages (data, processed, result)\n",
    "    graph_list = [\n",
    "        plotting.Graph(metric.data, y_axis=y_axis[0], df_color=\"black\", df_label=\"data\"), \n",
    "        plotting.Graph(metric.processed, y_axis=y_axis[1], df_color=\"blue\", df_label=\"processed\"), \n",
    "        plotting.Graph(metric.result, y_axis=y_axis[2], df_color=\"red\", df_label=\"result\"),\n",
    "        #plotting.Graph(sp500.data, y_axis=y_axis[0], df_color=\"green\", df_label=\"train\"),\n",
    "        #plotting.Graph(metric.test, y_axis=y_axis[2], df_color=\"orange\", df_label=\"test\")\n",
    "    ]\n",
    "    plotting.plot_graph(graph_list, neutral_line=None, title=metric.name)"
   ]
  },
  {
   "cell_type": "code",
   "execution_count": 3,
   "metadata": {},
   "outputs": [],
   "source": [
    "Metric.setPreferences(data_dir, start_date, end_date)\n",
    "metrics = []\n",
    "metrics.append(SaveHavenDemand())\n",
    "metrics.append(ConsumerSentiment())\n",
    "metrics.append(SP500Momentum())\n",
    "metrics.append(PutCallRatio())\n",
    "metrics.append(InsiderTransactions())\n",
    "metrics.append(AAIISentiment())\n",
    "metrics.append(MarginStats())\n",
    "metrics.append(VIX())\n",
    "for metric in metrics:\n",
    "    metric.get()\n",
    "    showMetricsCalculation(metric)\n",
    "    break"
   ]
  }
 ],
 "metadata": {
  "kernelspec": {
   "display_name": "Python 3",
   "language": "python",
   "name": "python3"
  },
  "language_info": {
   "codemirror_mode": {
    "name": "ipython",
    "version": 3
   },
   "file_extension": ".py",
   "mimetype": "text/x-python",
   "name": "python",
   "nbconvert_exporter": "python",
   "pygments_lexer": "ipython3",
   "version": "3.11.4"
  }
 },
 "nbformat": 4,
 "nbformat_minor": 2
}
