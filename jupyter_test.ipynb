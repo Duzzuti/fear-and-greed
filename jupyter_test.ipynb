{
 "cells": [
  {
   "cell_type": "code",
   "execution_count": null,
   "metadata": {},
   "outputs": [],
   "source": [
    "import os\n",
    "#import utils\n",
    "data_dir = \"test_data/\"\n",
    "sp500_dir = \"sp500/\"\n",
    "if not os.path.exists(data_dir):\n",
    "    os.mkdir(data_dir)\n",
    "if not os.path.exists(data_dir + sp500_dir):\n",
    "    os.mkdir(data_dir + sp500_dir)\n",
    "\n",
    "import yf_exception_download as yf_de\n",
    "import yfinance.shared\n",
    "\n",
    "for i in [\"QUIT\", \"TICKER2\"]:\n",
    "    data, err = yf_de.downloadWithExceptions(i, start=\"2020-01-01\")\n",
    "    print(f\"Error: {yfinance.shared._ERRORS}\")\n",
    "# yf.Ticker(\"AAPL\").history(period=\"1y\", raise_errors=True).head()"
   ]
  },
  {
   "cell_type": "code",
   "execution_count": null,
   "metadata": {},
   "outputs": [],
   "source": [
    "utils.fetch_yf_data('AAPL', data_dir, '2019-01-01', '2020-01-01')\n",
    "utils.fetch_yf_data('AAPL', data_dir, '2018-12-31', '2024-11-23')\n",
    "utils.fetch_yf_data('AAPL', data_dir, '2000-01-01')"
   ]
  },
  {
   "cell_type": "code",
   "execution_count": null,
   "metadata": {},
   "outputs": [],
   "source": [
    "utils.fetch_sp500companies_data(data_dir, sp500_dir, \"2019-01-01\", \"2020-01-02\")"
   ]
  },
  {
   "cell_type": "markdown",
   "metadata": {},
   "source": [
    "# Test Metrics"
   ]
  },
  {
   "cell_type": "code",
   "execution_count": null,
   "metadata": {
    "notebookRunGroups": {
     "groupValue": "1"
    }
   },
   "outputs": [],
   "source": [
    "import os\n",
    "from metrics import *\n",
    "import plotting\n",
    "data_dir = \"test_data/\"\n",
    "if not os.path.exists(data_dir):\n",
    "    os.mkdir(data_dir)\n",
    "start_date = '2000-01-01'\n",
    "end_date = '2024-01-01'"
   ]
  },
  {
   "cell_type": "code",
   "execution_count": null,
   "metadata": {},
   "outputs": [],
   "source": [
    "def showMetricsCalculation(metric : Metric, y_axis = [\"left\", \"right\", \"right\"]):\n",
    "    # plot all stages (data, processed, result)\n",
    "    graph_list = [\n",
    "        plotting.Graph(metric.data, y_axis=y_axis[0], df_color=\"black\", df_label=\"data\"), \n",
    "        plotting.Graph(metric.processed, y_axis=y_axis[1], df_color=\"blue\", df_label=\"processed\"), \n",
    "        plotting.Graph(metric.result, y_axis=y_axis[2], df_color=\"red\", df_label=\"result\")\n",
    "    ]\n",
    "    plotting.plot_graph(graph_list, neutral_line=None, title=metric.name)"
   ]
  },
  {
   "cell_type": "code",
   "execution_count": null,
   "metadata": {},
   "outputs": [],
   "source": [
    "Metric.setPreferences(data_dir, start_date, end_date)\n",
    "metrics = []\n",
    "metrics.append(SP500Momentum())\n",
    "metrics.append(VIX())\n",
    "for metric in metrics:\n",
    "    metric.get()\n",
    "    showMetricsCalculation(metric)"
   ]
  }
 ],
 "metadata": {
  "kernelspec": {
   "display_name": "Python 3",
   "language": "python",
   "name": "python3"
  },
  "language_info": {
   "codemirror_mode": {
    "name": "ipython",
    "version": 3
   },
   "file_extension": ".py",
   "mimetype": "text/x-python",
   "name": "python",
   "nbconvert_exporter": "python",
   "pygments_lexer": "ipython3",
   "version": "3.11.4"
  }
 },
 "nbformat": 4,
 "nbformat_minor": 2
}
